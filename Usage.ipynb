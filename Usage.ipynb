{
 "cells": [
  {
   "cell_type": "code",
   "execution_count": 1,
   "id": "6b88b4bc-a5c4-436d-9eed-8e95600f6d53",
   "metadata": {
    "editable": true,
    "slideshow": {
     "slide_type": ""
    },
    "tags": []
   },
   "outputs": [],
   "source": [
    "from Animal import Animal"
   ]
  },
  {
   "cell_type": "code",
   "execution_count": 2,
   "id": "738a52e3-faf1-4f92-8835-fed5b5e36dfe",
   "metadata": {
    "editable": true,
    "slideshow": {
     "slide_type": ""
    },
    "tags": []
   },
   "outputs": [
    {
     "name": "stdout",
     "output_type": "stream",
     "text": [

      "hello, I am Bailey\n",
      "I'm swimming in the water\n",
      "I like eating fish\n",
      "I'm 2 years old\n",
      "I enjoy playing with a rock; it's my favorite toy\n",
      "Did you know us otters hold hands while we sleep so we don't drift apart?\n"

      "Hello, I am Joe\n",
      "Joe likes Cats!\n",
      "Joe has Blue eyes and eats Chicken, yum yum!\n",
      "Speed before eating: 5\n",
      "Speed after eating: 6\n"

     ]
    }
   ],
   "source": [

    "x = Animal ( \"Bailey\", \"swimming\", 2, \"rock\", \"sleep\")\n",
    "x.action() \n",
    "x.eat(\"fish\") \n",
    "x.age()\n",
    "x.toy()       \n",
    "x.sleep()"

    "x = Animal(\"Joe\", \"Blue\", \"Chicken\", 5, \"Cats\")\n",
    "x.likes()\n",
    "x.eat()"

   ]
  }
 ],
 "metadata": {
  "kernelspec": {
   "display_name": "Python 3",
   "language": "python",
   "name": "python3"
  },
  "language_info": {
   "codemirror_mode": {
    "name": "ipython",
    "version": 3
   },
   "file_extension": ".py",
   "mimetype": "text/x-python",
   "name": "python",
   "nbconvert_exporter": "python",
   "pygments_lexer": "ipython3",
   "version": "3.13.1"
  }
 },
 "nbformat": 4,
 "nbformat_minor": 5
}
